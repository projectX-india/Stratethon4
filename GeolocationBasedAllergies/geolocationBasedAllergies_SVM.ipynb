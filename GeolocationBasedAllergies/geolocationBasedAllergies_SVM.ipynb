{
 "cells": [
  {
   "cell_type": "code",
   "execution_count": 99,
   "metadata": {},
   "outputs": [],
   "source": [
    "import pandas as pd\n",
    "import numpy as np\n",
    "import tensorflow as tf\n",
    "import datetime as DT\n",
    "from tensorflow import keras\n",
    "from sklearn.model_selection import train_test_split\n",
    "from tensorflow.keras.models import Sequential\n",
    "from tensorflow.keras.layers import Activation,Dense, BatchNormalization,Dropout\n",
    "from tensorflow.keras import optimizers\n",
    "import os\n",
    "from matplotlib import pyplot as plt\n",
    "from sklearn import svm, datasets\n",
    "from sklearn.datasets import make_regression\n",
    "from sklearn.multioutput import MultiOutputRegressor\n",
    "from sklearn.svm import SVR\n",
    "from sklearn.model_selection import train_test_split\n",
    "from sklearn.metrics import mean_squared_error, mean_absolute_error\n",
    "from sklearn.pipeline import Pipeline\n",
    "from sklearn.multioutput import MultiOutputClassifier\n",
    "from sklearn.linear_model import LogisticRegression\n",
    "from sklearn.model_selection import GridSearchCV\n",
    "from sklearn.multioutput import MultiOutputRegressor\n",
    "from sklearn.model_selection import GridSearchCV\n",
    "from sklearn.pipeline import Pipeline"
   ]
  },
  {
   "cell_type": "code",
   "execution_count": 44,
   "metadata": {},
   "outputs": [],
   "source": [
    "patients = pd.read_csv('./maindata/patients.csv')\n",
    "allergies = pd.read_csv('./maindata/allergies.csv')"
   ]
  },
  {
   "cell_type": "code",
   "execution_count": 45,
   "metadata": {},
   "outputs": [
    {
     "name": "stdout",
     "output_type": "stream",
     "text": [
      "15\n"
     ]
    }
   ],
   "source": [
    "allergies = allergies[allergies.CATEGORY != 'medication']\n",
    "print(len(allergies['CODE'].unique()))"
   ]
  },
  {
   "cell_type": "code",
   "execution_count": 46,
   "metadata": {},
   "outputs": [],
   "source": [
    "AllergiesDetails = allergies[['CODE','DESCRIPTION','CATEGORY','REACTION1','DESCRIPTION1','SEVERITY1','REACTION2','DESCRIPTION2','SEVERITY2']]\n",
    "AllergiesDetails = AllergiesDetails.drop_duplicates(subset='CODE',keep='last')"
   ]
  },
  {
   "cell_type": "code",
   "execution_count": 47,
   "metadata": {},
   "outputs": [],
   "source": [
    "AllergiesDetails.to_csv('AllergiesList.csv',index=False)"
   ]
  },
  {
   "cell_type": "code",
   "execution_count": 48,
   "metadata": {},
   "outputs": [],
   "source": [
    "allergies = allergies[['PATIENT','CODE','START']]"
   ]
  },
  {
   "cell_type": "code",
   "execution_count": 49,
   "metadata": {},
   "outputs": [],
   "source": [
    "allergies = pd.merge(allergies,patients,how='left',left_on='PATIENT',right_on='Id')"
   ]
  },
  {
   "cell_type": "code",
   "execution_count": 50,
   "metadata": {},
   "outputs": [],
   "source": [
    "allergies=allergies[['START','BIRTHDATE','LAT','LON','CODE']]\n",
    "allergies['START'] = pd.to_datetime(allergies['START'], errors='coerce')\n",
    "allergies['BIRTHDATE'] = pd.to_datetime(allergies['BIRTHDATE'], errors='coerce')"
   ]
  },
  {
   "cell_type": "code",
   "execution_count": 51,
   "metadata": {},
   "outputs": [],
   "source": [
    "allergies['AGE'] = (allergies['START'] - allergies['BIRTHDATE']).astype('<m8[Y]')"
   ]
  },
  {
   "cell_type": "code",
   "execution_count": 52,
   "metadata": {},
   "outputs": [],
   "source": [
    "allergies=allergies[['AGE','LAT','LON','CODE']]"
   ]
  },
  {
   "cell_type": "code",
   "execution_count": 53,
   "metadata": {},
   "outputs": [],
   "source": [
    "allergies.to_csv('CleanedData.csv')"
   ]
  },
  {
   "cell_type": "code",
   "execution_count": 54,
   "metadata": {},
   "outputs": [
    {
     "data": {
      "text/html": [
       "<div>\n",
       "<style scoped>\n",
       "    .dataframe tbody tr th:only-of-type {\n",
       "        vertical-align: middle;\n",
       "    }\n",
       "\n",
       "    .dataframe tbody tr th {\n",
       "        vertical-align: top;\n",
       "    }\n",
       "\n",
       "    .dataframe thead th {\n",
       "        text-align: right;\n",
       "    }\n",
       "</style>\n",
       "<table border=\"1\" class=\"dataframe\">\n",
       "  <thead>\n",
       "    <tr style=\"text-align: right;\">\n",
       "      <th></th>\n",
       "      <th>AGE</th>\n",
       "      <th>LAT</th>\n",
       "      <th>LON</th>\n",
       "      <th>CODE</th>\n",
       "    </tr>\n",
       "  </thead>\n",
       "  <tbody>\n",
       "    <tr>\n",
       "      <th>0</th>\n",
       "      <td>1.0</td>\n",
       "      <td>41.930492</td>\n",
       "      <td>-71.003337</td>\n",
       "      <td>288328004</td>\n",
       "    </tr>\n",
       "    <tr>\n",
       "      <th>1</th>\n",
       "      <td>1.0</td>\n",
       "      <td>41.930492</td>\n",
       "      <td>-71.003337</td>\n",
       "      <td>84489001</td>\n",
       "    </tr>\n",
       "    <tr>\n",
       "      <th>2</th>\n",
       "      <td>1.0</td>\n",
       "      <td>41.930492</td>\n",
       "      <td>-71.003337</td>\n",
       "      <td>260147004</td>\n",
       "    </tr>\n",
       "    <tr>\n",
       "      <th>3</th>\n",
       "      <td>1.0</td>\n",
       "      <td>41.930492</td>\n",
       "      <td>-71.003337</td>\n",
       "      <td>264287008</td>\n",
       "    </tr>\n",
       "    <tr>\n",
       "      <th>4</th>\n",
       "      <td>1.0</td>\n",
       "      <td>41.930492</td>\n",
       "      <td>-71.003337</td>\n",
       "      <td>782576004</td>\n",
       "    </tr>\n",
       "  </tbody>\n",
       "</table>\n",
       "</div>"
      ],
      "text/plain": [
       "   AGE        LAT        LON       CODE\n",
       "0  1.0  41.930492 -71.003337  288328004\n",
       "1  1.0  41.930492 -71.003337   84489001\n",
       "2  1.0  41.930492 -71.003337  260147004\n",
       "3  1.0  41.930492 -71.003337  264287008\n",
       "4  1.0  41.930492 -71.003337  782576004"
      ]
     },
     "execution_count": 54,
     "metadata": {},
     "output_type": "execute_result"
    }
   ],
   "source": [
    "allergies.head()"
   ]
  },
  {
   "cell_type": "code",
   "execution_count": 55,
   "metadata": {},
   "outputs": [],
   "source": [
    "allergies_label = allergies.pop('CODE')"
   ]
  },
  {
   "cell_type": "code",
   "execution_count": 56,
   "metadata": {},
   "outputs": [],
   "source": [
    "allergies_labels = pd.get_dummies(allergies_label,prefix=\"allergy\")"
   ]
  },
  {
   "cell_type": "code",
   "execution_count": 57,
   "metadata": {},
   "outputs": [],
   "source": [
    "allergies = pd.concat([allergies,allergies_labels],axis=1)"
   ]
  },
  {
   "cell_type": "markdown",
   "metadata": {},
   "source": [
    "## Splitting Data in training and test"
   ]
  },
  {
   "cell_type": "code",
   "execution_count": 58,
   "metadata": {},
   "outputs": [],
   "source": [
    "complete_train_dataset, complete_test_dataset = train_test_split(allergies,test_size=0.1)\n",
    "# complete_test_dataset,complete_valid_dataset = train_test_split(temp_test_dataset,test_size=0.5)"
   ]
  },
  {
   "cell_type": "code",
   "execution_count": 59,
   "metadata": {},
   "outputs": [],
   "source": [
    "train_dataset = complete_train_dataset.iloc[:,0:3]\n",
    "train_labels = complete_train_dataset.iloc[:,3:]"
   ]
  },
  {
   "cell_type": "code",
   "execution_count": 60,
   "metadata": {},
   "outputs": [],
   "source": [
    "test_dataset = complete_test_dataset.iloc[:,0:3]\n",
    "test_labels = complete_test_dataset.iloc[:,3:]"
   ]
  },
  {
   "cell_type": "code",
   "execution_count": null,
   "metadata": {},
   "outputs": [],
   "source": []
  },
  {
   "cell_type": "markdown",
   "metadata": {},
   "source": [
    "#### Normalizing data"
   ]
  },
  {
   "cell_type": "code",
   "execution_count": 61,
   "metadata": {},
   "outputs": [],
   "source": [
    "train_stats = train_dataset.describe()\n",
    "train_stats = train_stats.transpose()\n"
   ]
  },
  {
   "cell_type": "code",
   "execution_count": 62,
   "metadata": {},
   "outputs": [],
   "source": [
    "def norm(x):\n",
    "    return (x-train_stats['mean'])/train_stats['std']\n",
    "\n",
    "normed_train_data = norm(train_dataset)\n",
    "normed_test_data = norm(test_dataset)\n"
   ]
  },
  {
   "cell_type": "code",
   "execution_count": 63,
   "metadata": {},
   "outputs": [
    {
     "name": "stdout",
     "output_type": "stream",
     "text": [
      "3\n",
      "15\n"
     ]
    }
   ],
   "source": [
    "print(normed_test_data.shape[1])\n",
    "print(train_labels.shape[1])"
   ]
  },
  {
   "cell_type": "code",
   "execution_count": 140,
   "metadata": {},
   "outputs": [],
   "source": [
    "\n",
    "# model = Pipeline(steps=[('svr',SVR()),('lr_multi',MultiOutputClassifier(LogisticRegression()))])\n",
    "# # model = MultiOutputRegressor(svr)\n",
    "# model = model.fit(train_dataset,train_labels)\n",
    "                        \n",
    "# Create the SVR regressor\n",
    "# svr = SVR(epsilon=0.2)\n",
    "\n",
    "# Create the Multioutput Regressor\n",
    "# model = MultiOutputRegressor(svr)\n",
    "\n",
    "model = Pipeline([('reg', MultiOutputRegressor(SVR()))])\n",
    "\n",
    "\n",
    "grid_param_svr = {\n",
    "    'reg__estimator__C': [0.01,0.1,1,10,100,1000],\n",
    "    'reg__estimator__epsilon':[0.1,0.2,0.3,0.4,0.5],\n",
    "    'reg__estimator__degree':[2,3,4,5,6,7]\n",
    "}\n",
    "\n",
    "gs_svr = (GridSearchCV( estimator=model, \n",
    "                        param_grid=grid_param_svr, \n",
    "                        cv=20,\n",
    "                        scoring = 'neg_mean_squared_error',\n",
    "                        n_jobs = -1,\n",
    "                        refit=True)\n",
    "         )\n",
    "\n",
    "gs_svr = gs_svr.fit(train_dataset,train_labels)\n"
   ]
  },
  {
   "cell_type": "code",
   "execution_count": 133,
   "metadata": {},
   "outputs": [
    {
     "name": "stdout",
     "output_type": "stream",
     "text": [
      "{'mean_fit_time': array([2.41894126, 2.36216817, 2.39213607, 2.40861759, 2.46942134,\n",
      "       2.52347138, 2.58893754, 2.62860737, 2.65331991, 2.69545245,\n",
      "       2.74312973, 2.79938626, 2.81064675, 2.8382699 , 2.96860433,\n",
      "       2.93681364, 3.02814488, 3.01947212, 3.10003173, 3.12237501,\n",
      "       3.13633964, 3.22752037, 3.12314875, 3.1592957 , 3.17418509,\n",
      "       3.18316083, 3.20041938, 3.26049755, 3.24754624, 3.25905926,\n",
      "       3.2789597 , 3.3242506 , 3.33163385, 3.32380729, 3.32274685,\n",
      "       3.26819751]), 'std_fit_time': array([0.0586702 , 0.07250647, 0.05004341, 0.05243535, 0.02818597,\n",
      "       0.04559466, 0.0299417 , 0.01878593, 0.02765444, 0.03266924,\n",
      "       0.03928588, 0.04621493, 0.04146611, 0.03298097, 0.08409783,\n",
      "       0.05482811, 0.04848063, 0.03134217, 0.08320375, 0.04799239,\n",
      "       0.09630751, 0.08163775, 0.03508144, 0.04249754, 0.04536519,\n",
      "       0.0226225 , 0.02591203, 0.04568118, 0.02865255, 0.0290122 ,\n",
      "       0.03527281, 0.03042337, 0.02920709, 0.02711861, 0.04040156,\n",
      "       0.1487074 ]), 'mean_score_time': array([0.51654623, 0.5095315 , 0.50101628, 0.51792967, 0.53517582,\n",
      "       0.54203732, 0.55176415, 0.56245856, 0.57166576, 0.57322457,\n",
      "       0.58006999, 0.58887155, 0.60309815, 0.61569185, 0.62789154,\n",
      "       0.62611747, 0.63056698, 0.63830628, 0.65748839, 0.66541038,\n",
      "       0.69771376, 0.69305253, 0.66598127, 0.67713072, 0.67521703,\n",
      "       0.68467958, 0.67714024, 0.69015872, 0.692804  , 0.69501753,\n",
      "       0.6880444 , 0.6972204 , 0.70192904, 0.69650481, 0.70210633,\n",
      "       0.59513698]), 'std_score_time': array([0.02278382, 0.01721678, 0.02468992, 0.01340368, 0.01781008,\n",
      "       0.01216362, 0.00738648, 0.01636449, 0.01553455, 0.00960587,\n",
      "       0.01743105, 0.01657087, 0.02040734, 0.01375801, 0.02282985,\n",
      "       0.00959601, 0.01244562, 0.01917802, 0.01948245, 0.02326832,\n",
      "       0.01341802, 0.02821144, 0.02135922, 0.01327588, 0.01358362,\n",
      "       0.02376792, 0.01429176, 0.01317283, 0.01304915, 0.02215476,\n",
      "       0.00897903, 0.01481347, 0.01095397, 0.01095527, 0.01023132,\n",
      "       0.11863794]), 'param_reg__estimator__C': masked_array(data=[0.01, 0.01, 0.01, 0.01, 0.01, 0.01, 0.01, 0.01, 0.01,\n",
      "                   0.1, 0.1, 0.1, 0.1, 0.1, 0.1, 0.1, 0.1, 0.1, 1, 1, 1,\n",
      "                   1, 1, 1, 1, 1, 1, 10, 10, 10, 10, 10, 10, 10, 10, 10],\n",
      "             mask=[False, False, False, False, False, False, False, False,\n",
      "                   False, False, False, False, False, False, False, False,\n",
      "                   False, False, False, False, False, False, False, False,\n",
      "                   False, False, False, False, False, False, False, False,\n",
      "                   False, False, False, False],\n",
      "       fill_value='?',\n",
      "            dtype=object), 'param_reg__estimator__degree': masked_array(data=[2, 2, 2, 3, 3, 3, 4, 4, 4, 2, 2, 2, 3, 3, 3, 4, 4, 4,\n",
      "                   2, 2, 2, 3, 3, 3, 4, 4, 4, 2, 2, 2, 3, 3, 3, 4, 4, 4],\n",
      "             mask=[False, False, False, False, False, False, False, False,\n",
      "                   False, False, False, False, False, False, False, False,\n",
      "                   False, False, False, False, False, False, False, False,\n",
      "                   False, False, False, False, False, False, False, False,\n",
      "                   False, False, False, False],\n",
      "       fill_value='?',\n",
      "            dtype=object), 'param_reg__estimator__epsilon': masked_array(data=[0.1, 0.2, 0.3, 0.1, 0.2, 0.3, 0.1, 0.2, 0.3, 0.1, 0.2,\n",
      "                   0.3, 0.1, 0.2, 0.3, 0.1, 0.2, 0.3, 0.1, 0.2, 0.3, 0.1,\n",
      "                   0.2, 0.3, 0.1, 0.2, 0.3, 0.1, 0.2, 0.3, 0.1, 0.2, 0.3,\n",
      "                   0.1, 0.2, 0.3],\n",
      "             mask=[False, False, False, False, False, False, False, False,\n",
      "                   False, False, False, False, False, False, False, False,\n",
      "                   False, False, False, False, False, False, False, False,\n",
      "                   False, False, False, False, False, False, False, False,\n",
      "                   False, False, False, False],\n",
      "       fill_value='?',\n",
      "            dtype=object), 'params': [{'reg__estimator__C': 0.01, 'reg__estimator__degree': 2, 'reg__estimator__epsilon': 0.1}, {'reg__estimator__C': 0.01, 'reg__estimator__degree': 2, 'reg__estimator__epsilon': 0.2}, {'reg__estimator__C': 0.01, 'reg__estimator__degree': 2, 'reg__estimator__epsilon': 0.3}, {'reg__estimator__C': 0.01, 'reg__estimator__degree': 3, 'reg__estimator__epsilon': 0.1}, {'reg__estimator__C': 0.01, 'reg__estimator__degree': 3, 'reg__estimator__epsilon': 0.2}, {'reg__estimator__C': 0.01, 'reg__estimator__degree': 3, 'reg__estimator__epsilon': 0.3}, {'reg__estimator__C': 0.01, 'reg__estimator__degree': 4, 'reg__estimator__epsilon': 0.1}, {'reg__estimator__C': 0.01, 'reg__estimator__degree': 4, 'reg__estimator__epsilon': 0.2}, {'reg__estimator__C': 0.01, 'reg__estimator__degree': 4, 'reg__estimator__epsilon': 0.3}, {'reg__estimator__C': 0.1, 'reg__estimator__degree': 2, 'reg__estimator__epsilon': 0.1}, {'reg__estimator__C': 0.1, 'reg__estimator__degree': 2, 'reg__estimator__epsilon': 0.2}, {'reg__estimator__C': 0.1, 'reg__estimator__degree': 2, 'reg__estimator__epsilon': 0.3}, {'reg__estimator__C': 0.1, 'reg__estimator__degree': 3, 'reg__estimator__epsilon': 0.1}, {'reg__estimator__C': 0.1, 'reg__estimator__degree': 3, 'reg__estimator__epsilon': 0.2}, {'reg__estimator__C': 0.1, 'reg__estimator__degree': 3, 'reg__estimator__epsilon': 0.3}, {'reg__estimator__C': 0.1, 'reg__estimator__degree': 4, 'reg__estimator__epsilon': 0.1}, {'reg__estimator__C': 0.1, 'reg__estimator__degree': 4, 'reg__estimator__epsilon': 0.2}, {'reg__estimator__C': 0.1, 'reg__estimator__degree': 4, 'reg__estimator__epsilon': 0.3}, {'reg__estimator__C': 1, 'reg__estimator__degree': 2, 'reg__estimator__epsilon': 0.1}, {'reg__estimator__C': 1, 'reg__estimator__degree': 2, 'reg__estimator__epsilon': 0.2}, {'reg__estimator__C': 1, 'reg__estimator__degree': 2, 'reg__estimator__epsilon': 0.3}, {'reg__estimator__C': 1, 'reg__estimator__degree': 3, 'reg__estimator__epsilon': 0.1}, {'reg__estimator__C': 1, 'reg__estimator__degree': 3, 'reg__estimator__epsilon': 0.2}, {'reg__estimator__C': 1, 'reg__estimator__degree': 3, 'reg__estimator__epsilon': 0.3}, {'reg__estimator__C': 1, 'reg__estimator__degree': 4, 'reg__estimator__epsilon': 0.1}, {'reg__estimator__C': 1, 'reg__estimator__degree': 4, 'reg__estimator__epsilon': 0.2}, {'reg__estimator__C': 1, 'reg__estimator__degree': 4, 'reg__estimator__epsilon': 0.3}, {'reg__estimator__C': 10, 'reg__estimator__degree': 2, 'reg__estimator__epsilon': 0.1}, {'reg__estimator__C': 10, 'reg__estimator__degree': 2, 'reg__estimator__epsilon': 0.2}, {'reg__estimator__C': 10, 'reg__estimator__degree': 2, 'reg__estimator__epsilon': 0.3}, {'reg__estimator__C': 10, 'reg__estimator__degree': 3, 'reg__estimator__epsilon': 0.1}, {'reg__estimator__C': 10, 'reg__estimator__degree': 3, 'reg__estimator__epsilon': 0.2}, {'reg__estimator__C': 10, 'reg__estimator__degree': 3, 'reg__estimator__epsilon': 0.3}, {'reg__estimator__C': 10, 'reg__estimator__degree': 4, 'reg__estimator__epsilon': 0.1}, {'reg__estimator__C': 10, 'reg__estimator__degree': 4, 'reg__estimator__epsilon': 0.2}, {'reg__estimator__C': 10, 'reg__estimator__degree': 4, 'reg__estimator__epsilon': 0.3}], 'split0_test_score': array([-0.06333215, -0.08000434, -0.11667653, -0.06333215, -0.08000434,\n",
      "       -0.11667653, -0.06333215, -0.08000434, -0.11667653, -0.06333584,\n",
      "       -0.07999149, -0.11664711, -0.06333584, -0.07999149, -0.11664711,\n",
      "       -0.06333584, -0.07999149, -0.11664711, -0.06333546, -0.07998895,\n",
      "       -0.11664244, -0.06333546, -0.07998895, -0.11664244, -0.06333546,\n",
      "       -0.07998895, -0.11664244, -0.06333286, -0.08000852, -0.11668119,\n",
      "       -0.06333286, -0.08000852, -0.11668119, -0.06333286, -0.08000852,\n",
      "       -0.11668119]), 'split1_test_score': array([-0.06333224, -0.08000365, -0.11667511, -0.06333224, -0.08000365,\n",
      "       -0.11667511, -0.06333224, -0.08000365, -0.11667511, -0.06333397,\n",
      "       -0.08000335, -0.11667324, -0.06333397, -0.08000335, -0.11667324,\n",
      "       -0.06333397, -0.08000335, -0.11667324, -0.06333124, -0.08000236,\n",
      "       -0.11667348, -0.06333124, -0.08000236, -0.11667348, -0.06333124,\n",
      "       -0.08000236, -0.11667348, -0.06332966, -0.07999149, -0.11665069,\n",
      "       -0.06332966, -0.07999149, -0.11665069, -0.06332966, -0.07999149,\n",
      "       -0.11665069]), 'split2_test_score': array([-0.06333311, -0.07999965, -0.11666618, -0.06333311, -0.07999965,\n",
      "       -0.11666618, -0.06333311, -0.07999965, -0.11666618, -0.0633358 ,\n",
      "       -0.07998953, -0.11664334, -0.0633358 , -0.07998953, -0.11664334,\n",
      "       -0.0633358 , -0.07998953, -0.11664334, -0.06333183, -0.08000233,\n",
      "       -0.1166608 , -0.06333183, -0.08000233, -0.1166608 , -0.06333183,\n",
      "       -0.08000233, -0.1166608 , -0.06333303, -0.08000031, -0.11667026,\n",
      "       -0.06333303, -0.08000031, -0.11667026, -0.06333303, -0.08000031,\n",
      "       -0.11667026]), 'split3_test_score': array([-0.06333288, -0.08000165, -0.11667041, -0.06333288, -0.08000165,\n",
      "       -0.11667041, -0.06333288, -0.08000165, -0.11667041, -0.06333251,\n",
      "       -0.07999647, -0.11666045, -0.06333251, -0.07999647, -0.11666045,\n",
      "       -0.06333251, -0.07999647, -0.11666045, -0.0633326 , -0.07999673,\n",
      "       -0.11666085, -0.0633326 , -0.07999673, -0.11666085, -0.0633326 ,\n",
      "       -0.07999673, -0.11666085, -0.06333386, -0.08000283, -0.11667042,\n",
      "       -0.06333386, -0.08000283, -0.11667042, -0.06333386, -0.08000283,\n",
      "       -0.11667042]), 'split4_test_score': array([-0.06333292, -0.07999937, -0.11666581, -0.06333292, -0.07999937,\n",
      "       -0.11666581, -0.06333292, -0.07999937, -0.11666581, -0.06333504,\n",
      "       -0.07998636, -0.11663767, -0.06333504, -0.07998636, -0.11663767,\n",
      "       -0.06333504, -0.07998636, -0.11663767, -0.06333233, -0.08000146,\n",
      "       -0.11667059, -0.06333233, -0.08000146, -0.11667059, -0.06333233,\n",
      "       -0.08000146, -0.11667059, -0.06333405, -0.07999927, -0.11666465,\n",
      "       -0.06333405, -0.07999927, -0.11666465, -0.06333405, -0.07999927,\n",
      "       -0.11666465]), 'split5_test_score': array([-0.06333345, -0.07999973, -0.11666672, -0.06333345, -0.07999973,\n",
      "       -0.11666672, -0.06333345, -0.07999973, -0.11666672, -0.06332835,\n",
      "       -0.08000474, -0.11668111, -0.06332835, -0.08000474, -0.11668111,\n",
      "       -0.06332835, -0.08000474, -0.11668111, -0.06333314, -0.07999658,\n",
      "       -0.11666003, -0.06333314, -0.07999658, -0.11666003, -0.06333314,\n",
      "       -0.07999658, -0.11666003, -0.06333098, -0.08000107, -0.11666589,\n",
      "       -0.06333098, -0.08000107, -0.11666589, -0.06333098, -0.08000107,\n",
      "       -0.11666589]), 'split6_test_score': array([-0.06333229, -0.08000266, -0.11667303, -0.06333229, -0.08000266,\n",
      "       -0.11667303, -0.06333229, -0.08000266, -0.11667303, -0.06333908,\n",
      "       -0.07999638, -0.11665376, -0.06333908, -0.07999638, -0.11665376,\n",
      "       -0.06333908, -0.07999638, -0.11665376, -0.06333034, -0.07999876,\n",
      "       -0.11666719, -0.06333034, -0.07999876, -0.11666719, -0.06333034,\n",
      "       -0.07999876, -0.11666719, -0.0633338 , -0.08001595, -0.11669534,\n",
      "       -0.0633338 , -0.08001595, -0.11669534, -0.0633338 , -0.08001595,\n",
      "       -0.11669534]), 'split7_test_score': array([-0.06333316, -0.07999971, -0.11666625, -0.06333316, -0.07999971,\n",
      "       -0.11666625, -0.06333316, -0.07999971, -0.11666625, -0.06333334,\n",
      "       -0.07998761, -0.1166409 , -0.06333334, -0.07998761, -0.1166409 ,\n",
      "       -0.06333334, -0.07998761, -0.1166409 , -0.06333353, -0.07999669,\n",
      "       -0.11665985, -0.06333353, -0.07999669, -0.11665985, -0.06333353,\n",
      "       -0.07999669, -0.11665985, -0.06333197, -0.08000236, -0.11667373,\n",
      "       -0.06333197, -0.08000236, -0.11667373, -0.06333197, -0.08000236,\n",
      "       -0.11667373]), 'split8_test_score': array([-0.06333013, -0.08000183, -0.11667354, -0.06333013, -0.08000183,\n",
      "       -0.11667354, -0.06333013, -0.08000183, -0.11667354, -0.06333423,\n",
      "       -0.07999972, -0.11666402, -0.06333423, -0.07999972, -0.11666402,\n",
      "       -0.06333423, -0.07999972, -0.11666402, -0.06333226, -0.07999791,\n",
      "       -0.11666356, -0.06333226, -0.07999791, -0.11666356, -0.06333226,\n",
      "       -0.07999791, -0.11666356, -0.06333081, -0.07999947, -0.11666906,\n",
      "       -0.06333081, -0.07999947, -0.11666906, -0.06333081, -0.07999947,\n",
      "       -0.11666906]), 'split9_test_score': array([-0.06333055, -0.08000297, -0.1166754 , -0.06333055, -0.08000297,\n",
      "       -0.1166754 , -0.06333055, -0.08000297, -0.1166754 , -0.06333521,\n",
      "       -0.07999427, -0.11665377, -0.06333521, -0.07999427, -0.11665377,\n",
      "       -0.06333521, -0.07999427, -0.11665377, -0.06333001, -0.08000479,\n",
      "       -0.11667958, -0.06333001, -0.08000479, -0.11667958, -0.06333001,\n",
      "       -0.08000479, -0.11667958, -0.0633336 , -0.08000236, -0.11666985,\n",
      "       -0.0633336 , -0.08000236, -0.11666985, -0.0633336 , -0.08000236,\n",
      "       -0.11666985]), 'mean_test_score': array([-0.06333229, -0.08000156, -0.1166709 , -0.06333229, -0.08000156,\n",
      "       -0.1166709 , -0.06333229, -0.08000156, -0.1166709 , -0.06333434,\n",
      "       -0.07999499, -0.11665554, -0.06333434, -0.07999499, -0.11665554,\n",
      "       -0.06333434, -0.07999499, -0.11665554, -0.06333227, -0.07999866,\n",
      "       -0.11666384, -0.06333227, -0.07999866, -0.11666384, -0.06333227,\n",
      "       -0.07999866, -0.11666384, -0.06333246, -0.08000236, -0.11667111,\n",
      "       -0.06333246, -0.08000236, -0.11667111, -0.06333246, -0.08000236,\n",
      "       -0.11667111]), 'std_test_score': array([1.06034321e-06, 1.75096063e-06, 4.10646412e-06, 1.06034321e-06,\n",
      "       1.75096063e-06, 4.10646412e-06, 1.06034321e-06, 1.75096063e-06,\n",
      "       4.10646412e-06, 2.61834512e-06, 6.02579792e-06, 1.35017038e-05,\n",
      "       2.61834512e-06, 6.02579792e-06, 1.35017038e-05, 2.61834512e-06,\n",
      "       6.02579792e-06, 1.35017038e-05, 1.50709648e-06, 4.23577055e-06,\n",
      "       9.50783768e-06, 1.50709648e-06, 4.23577055e-06, 9.50783768e-06,\n",
      "       1.50709648e-06, 4.23577055e-06, 9.50783768e-06, 1.45090984e-06,\n",
      "       6.03992748e-06, 1.09020156e-05, 1.45090984e-06, 6.03992748e-06,\n",
      "       1.09020156e-05, 1.45090984e-06, 6.03992748e-06, 1.09020156e-05]), 'rank_test_score': array([ 4, 19, 31,  4, 19, 31,  4, 19, 31, 10, 13, 25, 10, 13, 25, 10, 13,\n",
      "       25,  1, 16, 28,  1, 16, 28,  1, 16, 28,  7, 22, 34,  7, 22, 34,  7,\n",
      "       22, 34], dtype=int32)}\n"
     ]
    }
   ],
   "source": [
    "print(gs_svr.cv_results_) "
   ]
  },
  {
   "cell_type": "code",
   "execution_count": 141,
   "metadata": {},
   "outputs": [
    {
     "name": "stdout",
     "output_type": "stream",
     "text": [
      "Pipeline(steps=[('reg', MultiOutputRegressor(estimator=SVR(C=1000, degree=2)))])\n"
     ]
    }
   ],
   "source": [
    "print(gs_svr.best_estimator_) "
   ]
  },
  {
   "cell_type": "code",
   "execution_count": 142,
   "metadata": {},
   "outputs": [
    {
     "name": "stdout",
     "output_type": "stream",
     "text": [
      "-0.06322496977572192\n"
     ]
    }
   ],
   "source": [
    "accuracy=gs_svr.best_score_\n",
    "print(accuracy)"
   ]
  },
  {
   "cell_type": "code",
   "execution_count": 143,
   "metadata": {},
   "outputs": [
    {
     "data": {
      "text/plain": [
       "array([[1.29588949, 0.27096344, 0.9208856 , ..., 0.88478091, 1.10488456,\n",
       "        1.10562397],\n",
       "       [1.29249602, 0.26701487, 0.91138042, ..., 0.86499598, 1.09238822,\n",
       "        1.10089911],\n",
       "       [1.29442838, 0.26832491, 0.91748929, ..., 0.87188452, 1.09816425,\n",
       "        1.10047468],\n",
       "       ...,\n",
       "       [1.30263319, 0.27433818, 0.92403025, ..., 0.86766847, 1.10269673,\n",
       "        1.10497743],\n",
       "       [1.29823302, 0.27244142, 0.9222273 , ..., 0.88220838, 1.10550973,\n",
       "        1.1067512 ],\n",
       "       [1.29072276, 0.26632545, 0.91639972, ..., 0.87885852, 1.09864222,\n",
       "        1.09906096]])"
      ]
     },
     "execution_count": 143,
     "metadata": {},
     "output_type": "execute_result"
    }
   ],
   "source": [
    "example_batch = normed_test_data\n",
    "example_result = gs_svr.predict(example_batch)\n",
    "example_result"
   ]
  },
  {
   "cell_type": "code",
   "execution_count": 144,
   "metadata": {},
   "outputs": [
    {
     "data": {
      "text/plain": [
       "-0.9234546414988912"
      ]
     },
     "execution_count": 144,
     "metadata": {},
     "output_type": "execute_result"
    }
   ],
   "source": [
    "gs_svr.score(normed_test_data,test_labels)"
   ]
  },
  {
   "cell_type": "code",
   "execution_count": 145,
   "metadata": {},
   "outputs": [
    {
     "name": "stdout",
     "output_type": "stream",
     "text": [
      "MSE for first regressor: 1.6060195677087448 - second regressor: 0.13964789527320337\n",
      "MAE for first regressor: 1.2478513015271417 - second regressor: 0.3377847436017212\n"
     ]
    }
   ],
   "source": [
    "# Evaluate the regressor\n",
    "mse_one = mean_squared_error(test_labels.iloc[:,0], example_result[:,0])\n",
    "mse_two = mean_squared_error(test_labels.iloc[:,1], example_result[:,1])\n",
    "print(f'MSE for first regressor: {mse_one} - second regressor: {mse_two}')\n",
    "mae_one = mean_absolute_error(test_labels.iloc[:,0], example_result[:,0])\n",
    "mae_two = mean_absolute_error(test_labels.iloc[:,1], example_result[:,1])\n",
    "print(f'MAE for first regressor: {mae_one} - second regressor: {mae_two}')"
   ]
  },
  {
   "cell_type": "code",
   "execution_count": 146,
   "metadata": {},
   "outputs": [
    {
     "name": "stdout",
     "output_type": "stream",
     "text": [
      "0.3766404199475066\n"
     ]
    }
   ],
   "source": [
    "index = 0\n",
    "correct = 0\n",
    "incorrect = 0\n",
    "total = 0\n",
    "for i in example_result:\n",
    "    temp = np.array(example_result[index])\n",
    "    predicted = temp.argsort()[-5:]\n",
    "    actual = np.argmax(test_labels.iloc[index])\n",
    "    if actual in predicted:\n",
    "        correct+=1\n",
    "    else:\n",
    "        incorrect+=1\n",
    "    total+=1\n",
    "    index+=1\n",
    "print(correct/total)\n",
    "# np.argmax(example_result[1])"
   ]
  },
  {
   "cell_type": "code",
   "execution_count": 29,
   "metadata": {},
   "outputs": [
    {
     "name": "stdout",
     "output_type": "stream",
     "text": [
      "12/12 [==============================] - 0s 797us/step - loss: 2.5287 - accuracy: 0.1181\n",
      "Accuracy    : 0.12\n"
     ]
    }
   ],
   "source": []
  },
  {
   "cell_type": "code",
   "execution_count": 30,
   "metadata": {},
   "outputs": [
    {
     "name": "stdout",
     "output_type": "stream",
     "text": [
      "12/12 [==============================] - 0s 668us/step - loss: 2.4720 - accuracy: 0.1732\n",
      "Accuracy    : 0.17\n"
     ]
    }
   ],
   "source": []
  },
  {
   "cell_type": "code",
   "execution_count": null,
   "metadata": {},
   "outputs": [],
   "source": []
  }
 ],
 "metadata": {
  "kernelspec": {
   "display_name": "Python 3 (ipykernel)",
   "language": "python",
   "name": "python3"
  },
  "language_info": {
   "codemirror_mode": {
    "name": "ipython",
    "version": 3
   },
   "file_extension": ".py",
   "mimetype": "text/x-python",
   "name": "python",
   "nbconvert_exporter": "python",
   "pygments_lexer": "ipython3",
   "version": "3.8.13"
  },
  "vscode": {
   "interpreter": {
    "hash": "6df4aa05d8a28d048a998fd2505b9708701ea219f228b3678a3e78e5d682ee10"
   }
  }
 },
 "nbformat": 4,
 "nbformat_minor": 4
}
